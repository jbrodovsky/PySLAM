{
 "cells": [
  {
   "cell_type": "markdown",
   "id": "d2e884cf",
   "metadata": {},
   "source": [
    "# Localization Examples\n",
    "\n",
    "This notebook demonstrates how to implement and use the base classes from the localization modules. Their strengths, weaknesses, and performance is examined using a two-dimensional Cartesian plane example similar to the examples found [here](https://www.kalmanfilter.net/multiExamples.html). We will use an scenario similar to example 9.\n",
    "\n",
    "Assume a vehicle is traveling in an plane and that the vehicle can be modeled as a point mass with three degrees of freedom (two translational and one rotational). The vehicle has a sensor on board that reports the range and bearing of a landmark located at the origin as well as an inertial measurment unit that can measure accelerations in the body frame (along, athwart, and rotational).\n",
    "\n",
    "**General State Equation**\n",
    "\n",
    "As a refresher, the general form of the state equation is\n",
    "\n",
    "\\begin{equation}\n",
    "\\textbf{x}_{t+1} = \\textbf{F} \\textbf{x}_t + \\textbf{B} \\textbf{u}_t + \\textbf{w}_t\n",
    "\\end{equation}\n",
    "\n",
    "Where:\n",
    "* $\\textbf{x}_{t+1}$ is the predicted system state\n",
    "* $\\textbf{x}_t$ is the current estimated system state\n",
    "* $\\textbf{u}_t$ is the current control input\n",
    "* $\\textbf{F}$ is the state transition matrix, sometimes noted as $\\textbf{A}$\n",
    "* $\\textbf{B}$ is the control input matrix, sometimes noted as $\\textbf{G}$\n",
    "\n",
    "Note, in my notation bold-faced lowercase symbols are vectors, bold-faced uppercase symbols are matricies. Non-bold versions of the same symbol will indicate an element of that matrix or vector quantity. Ex: $x_t^i$ is the *i*-th element of the vector $\\textbf{x}_t$. In this scenario our state vector becomes the position along the world x- and y-axes, and the angular position, velocity, and acceleration of the body frame x-axis relative to the world x-axis, and the body frame velocities ($v_x$, and $v_y$) and accelerations ($a_x$, and $a_y$).\n",
    "\n",
    "\\begin{equation}\n",
    "\\textbf{x}_t = [p_x, p_y, v_x, v_y, a_x, a_y, \\theta, \\omega, \\alpha ]\n",
    "\\end{equation}\n",
    "\n",
    "**General Dynamic Model**\n",
    "\n",
    "From basic planar dynamics we can write the following equations assuming a constant acceleration model, where $t$ is the time duration from one step to another:\n",
    "\n",
    "* $p_x' = p_x + \\left(v_x \\cos\\theta + v_y \\cos(\\frac{\\pi}{2} - \\theta)\\right) t + 0.5 \\left(a_x \\cos\\theta + a_y \\cos(\\frac{\\pi}{2} - \\theta) \\right) t^2$\n",
    "* $p_y' = p_y + \\left(v_x \\sin\\theta + v_y \\sin(\\frac{\\pi}{2} - \\theta)\\right) t + 0.5 \\left(a_x \\sin\\theta + a_y \\cos(\\frac{\\pi}{2} - \\theta) \\right) t^2$\n",
    "* $v_x' = v_x + a_x t$\n",
    "* $v_y' = v_y + a_y t$\n",
    "* $\\theta ' = \\theta + \\omega t + 0.5 \\alpha t^2$\n",
    "* $\\omega ' = \\omega + \\alpha t$\n",
    "\n",
    "As you can see, for a relatively simple case of three degrees of freedom planar motion, this is already getting to be a complicated non-linear model. We'll make one simplifying assumption that there is no side-slippage in the system ($v_y = 0$, and $a_y = 0$) and that the linear velocity and acceleration is only along the body frame x-axis. While this reduces some complexity, it still leaves us with two non-linear terms in the position equations:\n",
    "\n",
    "* $p_x' = p_x + \\left(v t  + 0.5 a t^2\\right) \\cos\\theta$\n",
    "* $p_y' = p_y + \\left(v t + 0.5 a t^2\\right) \\sin\\theta$\n",
    "* $v' = v + a t$\n",
    "* $\\theta ' = \\theta + \\omega t + 0.5 \\alpha t^2$\n",
    "* $\\omega ' = \\omega + \\alpha t$"
   ]
  },
  {
   "cell_type": "markdown",
   "id": "998122b4",
   "metadata": {},
   "source": [
    "## Kalman Filter\n",
    "\n",
    "### Basic Theory\n",
    "\n",
    "The Kalman Filter consists of two equations that describe how the mean ($\\textbf{x}_t$) and covariance ($\\textbf{P}_t$) of a Guassian distribution based on the above state equation evolve over time with respect to a measurement vector $\\textbf{z}_t$. However, it is frequently expanded to seven equations for readability and broken into two distinct phases: the prediction phase and the update phase.\n",
    "\n",
    "**Prediction**\n",
    "1. $\\hat{\\textbf{x}}_t = \\textbf{F} \\textbf{x}_t + \\textbf{B} \\textbf{u}_t$\n",
    "2. $\\hat{\\textbf{P}}_t = \\textbf{F} \\textbf{P}_t \\textbf{F}^T + \\textbf{Q}$\n",
    "\n",
    "**Update**\n",
    "1. $\\textbf{y} = \\textbf{z}_t - \\textbf{H} \\hat{\\textbf{x}}_t$\n",
    "2. $\\textbf{S} = \\textbf{H} \\hat{\\textbf{P}} \\textbf{H}^T + \\textbf{R}$\n",
    "3. $\\textbf{K} = \\hat{textbf{P}}_t \\textbf{H}^T \\textbf{S}^-1$\n",
    "4. $\\textbf{x}_{t+1} = \\hat{\\textbf{x}}_t + \\textbf{K} \\textbf{y}$\n",
    "5. $\\textbf{P}_{t+1} = \\left(\\textbf{I} - \\textbf{K}\\textbf{H}\\right) \\hat{\\textbf{P}}$\n",
    "\n",
    "The Kalman Filter assumes that system is linear. Therfore, to implement a Kalman Filter for this scenario, we will have to make some changes due to the non-linearities in the position equations and how the measurement is provided. The measurement is pretty simple: instead of directly providing the range and bearing ($\\textbf{z} = \\left[r, \\phi\\right]$) to the origin, preprocess the measurement using the IMU's heading angle to calculate the position. \n",
    "\n",
    "\\begin{equation}\n",
    "\\bar{\\textbf{z}}(\\theta) = \\left[r \\cos\\left(\\theta + \\phi\\right), r \\sin\\left(\\theta + \\phi\\right) \\right]\n",
    "\\end{equation}\n",
    "\n",
    "Instead of passing the body-frame accelerations directly into the state equation, we will assume that there is some pre-processing done with the inertial measurement unit that converts the accelerations into the world coordinate frame. We can now use the Kalman Filter two different ways to estimate the state of the vehicle: first by not using the IMU and assuming a constant-acceleration model that includes acceleration in the state vector; second: using the same model but treating the accelerations as control inputs that are measured using the IMU.\n",
    "\n",
    "### Without control inputs\n",
    "\n",
    "In this framework our state vector becomes $x_t = \\left[p_x, \\dot{p}_x, \\ddot{p}_x, p_y, \\dot{p}_y, \\ddot{p}_y \\right]$. Our state transition matrix $\\textbf{F}$ is therefore just a matrix representation of the one dimensional kinematics equations:\n",
    "\n",
    "$\\textbf{F} = \\left[ \\begin{matrix}\n",
    "                1 & t & 0.5 t^2 & 0 & 0 & 0 \\\\\n",
    "                0 & 1 & t       & 0 & 0 & 0 \\\\\n",
    "                0 & 0 & 1       & 0 & 0 & 0 \\\\\n",
    "                0 & 0 & 0 & 1 & t & 0.5 t^2 \\\\\n",
    "                0 & 0 & 0 & 0 & 1 & t       \\\\\n",
    "                0 & 0 & 0 & 0 & 0 & 1       \n",
    "              \\end{matrix}\\right]$\n",
    "\n",
    "The control input matrix $\\textbf{B}$ and vector $\\textbf{u}_t$ are simply zero. The measurement matrix $\\textbf{H}$ is similarly simple:\n",
    "\n",
    "$\\textbf{H} = \\left[\n",
    "    \\begin{matrix}\n",
    "    1 & 0 \\\\\n",
    "    0 & 0 \\\\\n",
    "    0 & 0 \\\\\n",
    "    0 & 1 \\\\\n",
    "    0 & 0 \\\\\n",
    "    0 & 0 \\\\\n",
    "    \\end{matrix}\n",
    "\\right]$\n",
    "\n",
    "The only remaining unknowns are the process noise matrix $\\textbf{Q}$ and the measurement uncertainty matrix ($\\textbf{R}$). The measurement uncertainty matrix is relatively simple to construct as it is simply a covariance formulation of the measurement accuracy which can be treated as a standard deviation. For example a distance measurement that is accurate to $\\pm\\sigma$ would result in an $\\textbf{R} = \\sigma^2$. Typically, these values should only be along the diagonal unless there is some sort of cross-correlation relationship.\n",
    "\n",
    "This process noise matrix can be calculated using two different methods depending on whether or not you have control inputs. Since we do not in this case, we will calculate it using the state transition matrix. This method first requires determining your noise parameters ($\\sigma^2$), and how they map to the state state transition matrix ($\\bar{\\textbf{Q}}$). Typically the noise parameter is placed on the highest order derivative. The noise parameter(s) can be brought in through sensor specifications (ex: if a sensor reports a measurement $z$ accurate to $\\pm \\sigma$) or just left as scalar of one. Putting the noise on the acceleration only we get:\n",
    "\n",
    "\\begin{equation}\n",
    "\\bar{\\textbf{Q}} = \\left[\\begin{matrix} 0 & 0 & 0 \\\\ 0 & 0 & 0 \\\\ 0 & 0 & 1 \\end{matrix}\\right] \\sigma^2\n",
    "\\end{equation}\n",
    "\n",
    "We can then calculate the process noise using the state transition matrix as such: $\\textbf{Q} = \\textbf{F} \\bar{\\textbf{Q}} \\textbf{F}^T$. In this scenario this results in the following matrix:\n",
    "\n",
    "\\begin{equation}\n",
    "\\textbf{Q} = \\left[\n",
    "             \\begin{matrix} \n",
    "                \\frac{t^4}{4} & \\frac{t^3}{2} & \\frac{t^2}{2} & 0             & 0             & 0 \\\\\n",
    "                \\frac{t^3}{2} & t^2           & t             & 0             & 0             & 0 \\\\\n",
    "                \\frac{t^2}{2} & t             & 1             & 0             & 0             & 0 \\\\\n",
    "                0             & 0             & 0             & \\frac{t^4}{4} & \\frac{t^3}{2} & \\frac{t^2}{2} \\\\\n",
    "                0             & 0             & 0             & \\frac{t^3}{2} & t^2           & t             \\\\   \n",
    "                0             & 0             & 0             & \\frac{t^2}{2} & t             & 1 \\\\\n",
    "             \\end{matrix}\n",
    "            \\right]\n",
    "\\end{equation}\n",
    "\n",
    "### With control inputs\n",
    "\n",
    "We can thus model our system with the following state vector $ x_t = \\left[p_x, \\dot{p}_x, p_y, \\dot{p}_y, \\right]$ and treat the measured accelerations as control inputs: $u_t = \\left[\\ddot{p}_x, \\ddot{p}_y \\right]$.\n",
    "\n",
    "In turn, our state transition matrix $\\textbf{F}$ becomes:\n",
    "\n",
    "$ \\textbf{F} = \\left[ \n",
    "    \\begin{matrix}\n",
    "        1 & t & 0 & 0 \\\\\n",
    "        0 & 1 & 0 & 0 \\\\\n",
    "        0 & 0 & 1 & t \\\\\n",
    "        0 & 0 & 0 & 1 \\\\\n",
    "    \\end{matrix}\n",
    " \\right]$\n",
    "\n",
    "and the control input matrix $\\textbf{B}$ becomes:\n",
    "$\\textbf{B} = \\left[ \n",
    "    \\begin{matrix}\n",
    "    0.5t^2 & 0 \\\\\n",
    "    t      & 0 \\\\\n",
    "    0      & 0.5t^2 \\\\\n",
    "    0      & t\n",
    "    \\end{matrix}\n",
    "\\right]$\n",
    "\n",
    "We can similarly calculate the process noise matrix, however this time we use the control input matrix: $\\textbf{Q} = \\textbf{B} \\sigma^2 \\textbf{B}^T$. The measurement uncertainty matrix remains the same and $\\textbf{H}$ matrix remain the same."
   ]
  },
  {
   "cell_type": "markdown",
   "id": "cc37b0e7",
   "metadata": {},
   "source": [
    "## Testing the Kalman Filter\n",
    "\n",
    "Now on to testing the Kalman Filter. We will have a truth trajectory that resembles something like a J-shape at a 45 degree angle from the x-axis."
   ]
  },
  {
   "cell_type": "code",
   "execution_count": 32,
   "id": "65cfd713",
   "metadata": {},
   "outputs": [],
   "source": [
    "import numpy as np"
   ]
  },
  {
   "cell_type": "code",
   "execution_count": 102,
   "id": "ff32fb8c",
   "metadata": {},
   "outputs": [],
   "source": [
    "# set constants and initial conditions\n",
    "v = 0.1 #m/s\n",
    "q = np.pi/4\n",
    "w = 0\n",
    "x = 0\n",
    "y = 0\n",
    "vx = np.cos(q)*v\n",
    "vy = np.sin(q)*v\n",
    "truth = {'time': [], 'x': [], 'y':[], 'q':[], 'vx':[], 'vy':[], 'w':[]}\n",
    "measurements = {'r':[], 'phi':[]}\n",
    "t = 0\n",
    "dt = 1\n",
    "# straight line trajectory\n",
    "while t < 30*60:\n",
    "    truth['time'].append(t)\n",
    "    truth['x'].append(x)\n",
    "    truth['y'].append(y)\n",
    "    truth['q'].append(q)\n",
    "    truth['vx'].append(vx)\n",
    "    truth['vy'].append(vy)\n",
    "    measurements['r'].append(np.sqrt(x*x + y*y))\n",
    "    '''try:\n",
    "        measurements['phi'].append(np.arctan(-x/-y))\n",
    "    except:\n",
    "        measurements['phi'].append(np.arctan(-x))'''\n",
    "    measurements['phi'].append(-np.arctan2(-x, -y) - q)\n",
    "    x += v*dt*np.cos(q)\n",
    "    y += v*dt*np.sin(q)\n",
    "    q += w*dt\n",
    "    vx = np.cos(q)*v\n",
    "    vy = np.cos(q)*v\n",
    "    t+=dt\n",
    "\n",
    "# half circle trajectory\n",
    "w = (np.pi/2)/(30*60) # pi radians per 30 minutes\n",
    "while t < 60*60:\n",
    "    truth['time'].append(t)\n",
    "    truth['x'].append(x)\n",
    "    truth['y'].append(y)\n",
    "    truth['q'].append(q)\n",
    "    truth['vx'].append(vx)\n",
    "    truth['vy'].append(vy)\n",
    "    measurements['r'].append(np.sqrt(x*x + y*y))\n",
    "    measurements['phi'].append(-np.arctan2(-x, -y) - q)\n",
    "    x += v*dt*np.cos(q)\n",
    "    y += v*dt*np.sin(q)\n",
    "    q += w*dt\n",
    "    vx = np.cos(q)*v\n",
    "    vy = np.cos(q)*v\n",
    "    t+=dt"
   ]
  },
  {
   "cell_type": "code",
   "execution_count": 103,
   "id": "278a4713",
   "metadata": {},
   "outputs": [
    {
     "data": {
      "text/plain": [
       "Text(0.5, 1.0, 'Truth Position')"
      ]
     },
     "execution_count": 103,
     "metadata": {},
     "output_type": "execute_result"
    },
    {
     "data": {
      "image/png": "[encoded data removed]",
      "text/plain": [
       "<Figure size 432x288 with 1 Axes>"
      ]
     },
     "metadata": {
      "needs_background": "light"
     },
     "output_type": "display_data"
    }
   ],
   "source": [
    "import matplotlib.pyplot as plt\n",
    "%matplotlib inline\n",
    "plt.plot(truth['x'], truth['y'])\n",
    "plt.xlabel('X (m)')\n",
    "plt.ylabel('Y (m)')\n",
    "plt.title('Truth Position')"
   ]
  },
  {
   "cell_type": "code",
   "execution_count": 104,
   "id": "b27175ef",
   "metadata": {},
   "outputs": [
    {
     "data": {
      "text/plain": [
       "[<matplotlib.lines.Line2D at 0x7f3328d56d60>,\n",
       " <matplotlib.lines.Line2D at 0x7f3328d56e80>]"
      ]
     },
     "execution_count": 104,
     "metadata": {},
     "output_type": "execute_result"
    },
    {
     "data": {
      "image/png": "[encoded data removed]",
      "text/plain": [
       "<Figure size 432x288 with 1 Axes>"
      ]
     },
     "metadata": {
      "needs_background": "light"
     },
     "output_type": "display_data"
    }
   ],
   "source": [
    "plt.plot(truth['time'], measurements['phi'], '-r', truth['time'], truth['q'])"
   ]
  },
  {
   "cell_type": "code",
   "execution_count": 108,
   "id": "cb928741",
   "metadata": {},
   "outputs": [
    {
     "data": {
      "text/plain": [
       "(1,)"
      ]
     },
     "execution_count": 108,
     "metadata": {},
     "output_type": "execute_result"
    }
   ],
   "source": [
    "a = np.array([12])\n",
    "a.shape"
   ]
  },
  {
   "cell_type": "code",
   "execution_count": 112,
   "id": "abb668fd",
   "metadata": {},
   "outputs": [
    {
     "data": {
      "text/plain": [
       "array([[12.,  0.,  0.],\n",
       "       [ 0., 12.,  0.],\n",
       "       [ 0.,  0., 13.]])"
      ]
     },
     "execution_count": 112,
     "metadata": {},
     "output_type": "execute_result"
    }
   ],
   "source": [
    "np.eye(3) * [12, 12, 13]"
   ]
  },
  {
   "cell_type": "code",
   "execution_count": 134,
   "id": "ea2aedf8",
   "metadata": {},
   "outputs": [],
   "source": [
    "B = np.array([0.12])"
   ]
  },
  {
   "cell_type": "code",
   "execution_count": 127,
   "id": "d4e4ac4d",
   "metadata": {},
   "outputs": [
    {
     "ename": "ValueError",
     "evalue": "matmul: Input operand 1 has a mismatch in its core dimension 0, with gufunc signature (n?,k),(k,m?)->(n?,m?) (size 3 is different from 2)",
     "output_type": "error",
     "traceback": [
      "\u001b[0;31m---------------------------------------------------------------------------\u001b[0m",
      "\u001b[0;31mValueError\u001b[0m                                Traceback (most recent call last)",
      "\u001b[0;32m/tmp/ipykernel_81106/3805298232.py\u001b[0m in \u001b[0;36m<module>\u001b[0;34m\u001b[0m\n\u001b[0;32m----> 1\u001b[0;31m \u001b[0mB\u001b[0m \u001b[0;34m@\u001b[0m \u001b[0mnp\u001b[0m\u001b[0;34m.\u001b[0m\u001b[0marray\u001b[0m\u001b[0;34m(\u001b[0m\u001b[0;34m[\u001b[0m\u001b[0;34m[\u001b[0m\u001b[0;36m1\u001b[0m\u001b[0;34m,\u001b[0m \u001b[0;36m2\u001b[0m\u001b[0;34m]\u001b[0m\u001b[0;34m,\u001b[0m\u001b[0;34m[\u001b[0m\u001b[0;36m3\u001b[0m\u001b[0;34m,\u001b[0m\u001b[0;36m4\u001b[0m\u001b[0;34m]\u001b[0m\u001b[0;34m,\u001b[0m\u001b[0;34m[\u001b[0m\u001b[0;36m5\u001b[0m\u001b[0;34m,\u001b[0m\u001b[0;36m6\u001b[0m\u001b[0;34m]\u001b[0m\u001b[0;34m]\u001b[0m\u001b[0;34m)\u001b[0m \u001b[0;34m@\u001b[0m \u001b[0mB\u001b[0m\u001b[0;34m.\u001b[0m\u001b[0mT\u001b[0m\u001b[0;34m\u001b[0m\u001b[0;34m\u001b[0m\u001b[0m\n\u001b[0m",
      "\u001b[0;31mValueError\u001b[0m: matmul: Input operand 1 has a mismatch in its core dimension 0, with gufunc signature (n?,k),(k,m?)->(n?,m?) (size 3 is different from 2)"
     ]
    }
   ],
   "source": [
    "B @ np.array([[1, 2],[3,4],[5,6]]) @ B.T"
   ]
  },
  {
   "cell_type": "code",
   "execution_count": 136,
   "id": "fc121f71",
   "metadata": {},
   "outputs": [
    {
     "data": {
      "text/plain": [
       "array([[0.12, 0.  , 0.  , 0.  , 0.  ],\n",
       "       [0.  , 0.12, 0.  , 0.  , 0.  ],\n",
       "       [0.  , 0.  , 0.12, 0.  , 0.  ],\n",
       "       [0.  , 0.  , 0.  , 0.12, 0.  ],\n",
       "       [0.  , 0.  , 0.  , 0.  , 0.12]])"
      ]
     },
     "execution_count": 136,
     "metadata": {},
     "output_type": "execute_result"
    }
   ],
   "source": [
    "B *np.eye(5) "
   ]
  },
  {
   "cell_type": "code",
   "execution_count": null,
   "id": "0258c767",
   "metadata": {},
   "outputs": [],
   "source": []
  }
 ],
 "metadata": {
  "kernelspec": {
   "display_name": "Python 3 (ipykernel)",
   "language": "python",
   "name": "python3"
  },
  "language_info": {
   "codemirror_mode": {
    "name": "ipython",
    "version": 3
   },
   "file_extension": ".py",
   "mimetype": "text/x-python",
   "name": "python",
   "nbconvert_exporter": "python",
   "pygments_lexer": "ipython3",
   "version": "3.9.7"
  }
 },
 "nbformat": 4,
 "nbformat_minor": 5
}
